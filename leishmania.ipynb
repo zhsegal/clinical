{
 "cells": [
  {
   "cell_type": "code",
   "execution_count": 1,
   "metadata": {},
   "outputs": [],
   "source": [
    "import pandas as pd\n",
    "pd.set_option(\"display.max_columns\", 101)\n",
    "pd.set_option(\"display.max_rows\", 500)\n",
    "import matplotlib.pyplot as plt\n",
    "import seaborn as sns\n",
    "import numpy as np\n",
    "\n",
    "data=pd.read_csv('leish_data/labs_id.csv')\n",
    "tropica=pd.read_csv('leish_data/tropica.csv')\n",
    "mcl=pd.read_csv('leish_data/mcl.csv')\n",
    "trav_ambi=pd.read_csv('leish_data/trav_ambi.csv')"
   ]
  },
  {
   "cell_type": "code",
   "execution_count": 2,
   "metadata": {},
   "outputs": [],
   "source": [
    "def data_by_word(df,word, dropna=True):\n",
    "    cols=[col for col in df.columns if word in col]\n",
    "    result=data[cols]\n",
    "    return result.dropna(how='all')\n",
    "\n",
    "def cols_by_word(df, word):\n",
    "    return [col for col in df.columns if word in col]\n",
    "\n",
    "def df_from_cols(df, list_of_cols):\n",
    "    col_names = [item for sublist in list_of_cols for item in sublist]\n",
    "    return df[col_names]\n",
    "\n",
    "def drop_na_by_col(df, na_cols):\n",
    "    return df.dropna(subset=na_cols, how='all')\n",
    "    \n",
    "def calc_relative_result(df,col_name):\n",
    "    return df[col_name].count()/df.shape[0]\n",
    "\n",
    "def med_percent(method_cols, med_cols, df):\n",
    "    df=df_from_cols(df, [method_cols,med_cols])\n",
    "    df_nonan=drop_na_by_col(df, method_cols)\n",
    "    med_define_col=[col for col in df_nonan if 'Medication' in col]\n",
    "    relative_amount=calc_relative_result(df_nonan,med_define_col[0])\n",
    "    print (f'df shape:{df_nonan.shape}')\n",
    "    print (f'relative amount:{relative_amount}')\n",
    "    \n",
    "def get_demog(method_cols):\n",
    "\n",
    "    mdata=df_from_cols(data, [method_cols, demog_cols])\n",
    "    mdata=drop_na_by_col(mdata, method_cols)\n",
    "    m_age=mdata['Reference Event-Age at event'].mean()\n",
    "    std_age=mdata['Reference Event-Age at event'].std()\n",
    "    gender_count=mdata.Gender.value_counts()[1]\n",
    "    gender_prop=mdata.Gender.value_counts()[1]/mdata.shape[0]\n",
    "    print (f'shape: {mdata.shape}  mean age:{m_age}std   std age: {std_age}  gender count:{gender_count}   gender prop:{gender_prop} '\n",
    "          )\n",
    "    return "
   ]
  },
  {
   "cell_type": "code",
   "execution_count": 3,
   "metadata": {},
   "outputs": [],
   "source": [
    "demog_cols=[ 'Gender', 'Reference Event-Age at event','Reference Event: Diagnoses-Care Setting']\n",
    "lab_cols=cols_by_word(data, 'Result')\n",
    "lab_result_cols=cols_by_word(data, 'Numeric')\n",
    "lab_inter_cols=cols_by_word(data, 'Interpretation')\n",
    "\n",
    "\n",
    "diag_cols=cols_by_word(data, 'Diagnoses')\n",
    "ambisome_cols=cols_by_word(data, 'ambisome')\n",
    "leshcutan_cols=cols_by_word(data, 'leshcutan')\n",
    "pentostam_cols=cols_by_word(data, 'pentostam')\n",
    "miltefusine_cols=cols_by_word(data, 'miltefusine')\n",
    "\n",
    "ambisome_rec_cols=cols_by_word(data, 'ambisome-rec')\n",
    "ambisome_admin_cols=cols_by_word(data, 'ambisome-admin')\n",
    "\n",
    "leshcutan_rec=cols_by_word(data, 'leshcutan-rec')\n",
    "leshcutan_chornic=cols_by_word(data, 'leshcutan- c')\n",
    "\n",
    "pentostam_rec=cols_by_word(data, 'pentostam-rec')\n",
    "pentostam_admin=cols_by_word(data, 'pentostam-admin')\n",
    "\n",
    "ambi_define='ambisome-admin-Medication'\n",
    "pento_define='pentostam-admin-Medication'\n",
    "milte_define='miltefusine - rec-Medication'\n",
    "hosp_cols=cols_by_word(data, 'hospitalization')"
   ]
  },
  {
   "cell_type": "markdown",
   "metadata": {},
   "source": [
    "## DESCRIPTIVE"
   ]
  },
  {
   "cell_type": "code",
   "execution_count": 4,
   "metadata": {},
   "outputs": [
    {
     "name": "stdout",
     "output_type": "stream",
     "text": [
      "shape: (522, 40)  mean age:28.842535119033528std   std age: 17.27336082910458  gender count:181   gender prop:0.34674329501915707 \n"
     ]
    }
   ],
   "source": [
    "g=get_demog(lab_cols)"
   ]
  },
  {
   "cell_type": "markdown",
   "metadata": {},
   "source": [
    "## MEDICATION"
   ]
  },
  {
   "cell_type": "code",
   "execution_count": 5,
   "metadata": {},
   "outputs": [
    {
     "name": "stdout",
     "output_type": "stream",
     "text": [
      "miltefusine - rec-Date of Documentation-Days from Reference\n",
      "df shape:(1869, 11)\n",
      "relative amount:0.005885500267522739\n",
      "None\n",
      "ambisome-rec-Date of Documentation-Days from Reference\n",
      "df shape:(1869, 9)\n",
      "relative amount:0.02514713750668807\n",
      "None\n",
      "ambisome-admin-Date Administered-Days from Reference\n",
      "df shape:(1869, 9)\n",
      "relative amount:0.0299625468164794\n",
      "None\n",
      "leshcutan-rec-Date of Documentation-Days from Reference\n",
      "df shape:(1869, 10)\n",
      "relative amount:0.03263777421080792\n",
      "None\n",
      "pentostam-rec-Medication\n",
      "df shape:(1869, 9)\n",
      "relative amount:0.0016051364365971107\n",
      "None\n",
      "pentostam-admin-Date Administered-Days from Reference\n",
      "df shape:(1869, 9)\n",
      "relative amount:0.060460139111824504\n",
      "None\n"
     ]
    }
   ],
   "source": [
    "med_types=[miltefusine_cols,ambisome_rec_cols,ambisome_admin_cols,leshcutan_rec,pentostam_rec,\n",
    "           pentostam_admin]\n",
    "\n",
    "for med_type in med_types:\n",
    "    print (med_type[0])\n",
    "    print(med_percent(diag_cols,med_type,data))"
   ]
  },
  {
   "cell_type": "code",
   "execution_count": 6,
   "metadata": {},
   "outputs": [
    {
     "name": "stdout",
     "output_type": "stream",
     "text": [
      "miltefusine - rec-Date of Documentation-Days from Reference\n",
      "df shape:(522, 44)\n",
      "relative amount:0.04980842911877394\n",
      "None\n",
      "ambisome-rec-Date of Documentation-Days from Reference\n",
      "df shape:(522, 42)\n",
      "relative amount:0.08812260536398467\n",
      "None\n",
      "ambisome-admin-Date Administered-Days from Reference\n",
      "df shape:(522, 42)\n",
      "relative amount:0.1532567049808429\n",
      "None\n",
      "leshcutan-rec-Date of Documentation-Days from Reference\n",
      "df shape:(522, 43)\n",
      "relative amount:0.04980842911877394\n",
      "None\n",
      "pentostam-rec-Medication\n",
      "df shape:(522, 42)\n",
      "relative amount:0.0019157088122605363\n",
      "None\n",
      "pentostam-admin-Date Administered-Days from Reference\n",
      "df shape:(522, 42)\n",
      "relative amount:0.24904214559386972\n",
      "None\n"
     ]
    }
   ],
   "source": [
    "med_types=[miltefusine_cols,ambisome_rec_cols,ambisome_admin_cols,leshcutan_rec,pentostam_rec,\n",
    "           pentostam_admin]\n",
    "\n",
    "for med_type in med_types:\n",
    "    print (med_type[0])\n",
    "    print(med_percent(lab_cols,med_type,data))\n"
   ]
  },
  {
   "cell_type": "markdown",
   "metadata": {},
   "source": [
    "## BY TIME ##"
   ]
  },
  {
   "cell_type": "code",
   "execution_count": 23,
   "metadata": {
    "scrolled": true
   },
   "outputs": [
    {
     "data": {
      "text/plain": [
       "Text(0.5, 1.0, 'Patiets Diagnosed by Month')"
      ]
     },
     "execution_count": 23,
     "metadata": {},
     "output_type": "execute_result"
    },
    {
     "data": {
      "image/png": "[encoded data removed]",
      "text/plain": [
       "<Figure size 432x288 with 1 Axes>"
      ]
     },
     "metadata": {
      "needs_background": "light"
     },
     "output_type": "display_data"
    }
   ],
   "source": [
    "diag_data=df_from_cols(data, [diag_cols])\n",
    "diag_data=drop_na_by_col(diag_data, diag_cols)\n",
    "diag_data['date']=pd.to_datetime(diag_data['Reference Event: Diagnoses-Date of Documentation'])\n",
    "diag_data['month']=diag_data.date.dt.month\n",
    "g=diag_data.groupby('month')['month'].count()\n",
    "plt.plot(['Jab','Feb','March','Apr','May','Jun','Jul','Aud','Sep','Oct','Nov','Dec'], g)\n",
    "plt.xlabel('Month')\n",
    "plt.ylabel('Number of Patients') \n",
    "plt.title('Patiets Diagnosed by Month')"
   ]
  },
  {
   "cell_type": "code",
   "execution_count": 24,
   "metadata": {},
   "outputs": [
    {
     "data": {
      "text/plain": [
       "Text(0.5, 1.0, 'Patiets Diagnosed by Month')"
      ]
     },
     "execution_count": 24,
     "metadata": {},
     "output_type": "execute_result"
    },
    {
     "data": {
      "image/png": "[encoded data removed]",
      "text/plain": [
       "<Figure size 432x288 with 1 Axes>"
      ]
     },
     "metadata": {
      "needs_background": "light"
     },
     "output_type": "display_data"
    }
   ],
   "source": [
    "labs_data=df_from_cols(data, [lab_cols])\n",
    "labs_data=drop_na_by_col(labs_data, lab_cols)\n",
    "labs_data['date']=pd.to_datetime(labs_data['Reference Event: Lab Results Microbiology-Collection Date'])\n",
    "labs_data['month']=labs_data.date.dt.month\n",
    "g=labs_data.groupby('month')['month'].count()\n",
    "plt.plot(['Jab','Feb','March','Apr','May','Jun','Jul','Aud','Sep','Oct','Nov','Dec'], g)\n",
    "plt.xlabel('Month')\n",
    "plt.ylabel('Number of Patients') \n",
    "plt.title('Patiets Diagnosed by Month')"
   ]
  },
  {
   "cell_type": "code",
   "execution_count": 25,
   "metadata": {},
   "outputs": [],
   "source": [
    "labs_data=df_from_cols(data, [lab_cols])\n",
    "labs_data=drop_na_by_col(labs_data, lab_cols)"
   ]
  },
  {
   "cell_type": "markdown",
   "metadata": {},
   "source": [
    "## hospitalization"
   ]
  },
  {
   "cell_type": "code",
   "execution_count": 26,
   "metadata": {},
   "outputs": [
    {
     "name": "stdout",
     "output_type": "stream",
     "text": [
      "5.55974377309876\n",
      "10.963651507091296\n"
     ]
    }
   ],
   "source": [
    "hosp_data=df_from_cols(data, [diag_cols, hosp_cols])\n",
    "hosp_data=drop_na_by_col(hosp_data, diag_cols)\n",
    "\n",
    "hosp_data=hosp_data.dropna(subset=['hospitalization-Hospital Length of Stay'])\n",
    "print(hosp_data['hospitalization-Hospital Length of Stay'].mean())\n",
    "print(hosp_data['hospitalization-Hospital Length of Stay'].std())"
   ]
  },
  {
   "cell_type": "code",
   "execution_count": 27,
   "metadata": {},
   "outputs": [
    {
     "name": "stdout",
     "output_type": "stream",
     "text": [
      "6.4794624701359975\n",
      "7.669510434591003\n"
     ]
    }
   ],
   "source": [
    "hosp_data=df_from_cols(data, [lab_cols, hosp_cols])\n",
    "hosp_data=drop_na_by_col(hosp_data, lab_cols)\n",
    "\n",
    "hosp_data=hosp_data.dropna(subset=['hospitalization-Hospital Length of Stay'])\n",
    "print(hosp_data['hospitalization-Hospital Length of Stay'].mean())\n",
    "print(hosp_data['hospitalization-Hospital Length of Stay'].std())"
   ]
  },
  {
   "cell_type": "code",
   "execution_count": 28,
   "metadata": {},
   "outputs": [
    {
     "data": {
      "text/plain": [
       "(54, 42)"
      ]
     },
     "execution_count": 28,
     "metadata": {},
     "output_type": "execute_result"
    }
   ],
   "source": [
    "hosp_data.shape"
   ]
  },
  {
   "cell_type": "code",
   "execution_count": 47,
   "metadata": {
    "scrolled": true
   },
   "outputs": [
    {
     "data": {
      "text/plain": [
       "(2123, 137)"
      ]
     },
     "execution_count": 47,
     "metadata": {},
     "output_type": "execute_result"
    }
   ],
   "source": [
    "data.shape"
   ]
  },
  {
   "cell_type": "markdown",
   "metadata": {},
   "source": [
    "## tropica and mdclone"
   ]
  },
  {
   "cell_type": "code",
   "execution_count": 11,
   "metadata": {},
   "outputs": [
    {
     "data": {
      "text/plain": [
       "(124, 112)"
      ]
     },
     "execution_count": 11,
     "metadata": {},
     "output_type": "execute_result"
    }
   ],
   "source": [
    "rel_cols=[demog_cols,lab_inter_cols,lab_result_cols,ambisome_admin_cols,pentostam_admin,tropica.columns ]\n",
    "merged=data.merge(tropica, left_on='Patient ID',right_on='ת״ז', how='inner')\n",
    "rel_merged=df_from_cols(merged, rel_cols)\n",
    "rel_merged.shape"
   ]
  },
  {
   "cell_type": "markdown",
   "metadata": {},
   "source": [
    "AMBI"
   ]
  },
  {
   "cell_type": "code",
   "execution_count": 30,
   "metadata": {},
   "outputs": [
    {
     "data": {
      "text/plain": [
       "(69, 112)"
      ]
     },
     "execution_count": 30,
     "metadata": {},
     "output_type": "execute_result"
    }
   ],
   "source": [
    "ambi=rel_merged[rel_merged.treatment==1]\n",
    "ambi.total_dose=[dose.replace(\"mg/kg\",\"\") for dose in ambi.total_dose]\n",
    "ambi.total_dose=[dose.replace(\" \",\"\") for dose in ambi.total_dose]\n",
    "ambi.total_dose=[dose.replace(\"אין\",\"\") for dose in ambi.total_dose]\n",
    "\n",
    "ambi.total_dose=[float(dose) if dose!= \"\" else np.nan for dose in ambi.total_dose ]\n",
    "ambi=ambi.dropna(subset=['total_dose'])\n",
    "ambi.shape"
   ]
  },
  {
   "cell_type": "code",
   "execution_count": 13,
   "metadata": {
    "scrolled": true
   },
   "outputs": [
    {
     "data": {
      "text/plain": [
       "0    60\n",
       "1     9\n",
       "Name: dose_bool, dtype: int64"
      ]
     },
     "execution_count": 13,
     "metadata": {},
     "output_type": "execute_result"
    }
   ],
   "source": [
    "cut_off_dose=30\n",
    "\n",
    "ambi['dose_bool']=[1 if dose>cut_off_dose else 0 for dose in ambi.total_dose]\n",
    "ambi['dose_bool'].value_counts()"
   ]
  },
  {
   "cell_type": "code",
   "execution_count": 21,
   "metadata": {},
   "outputs": [
    {
     "data": {
      "image/png": "[encoded data removed]",
      "text/plain": [
       "<Figure size 432x288 with 1 Axes>"
      ]
     },
     "metadata": {
      "needs_background": "light"
     },
     "output_type": "display_data"
    }
   ],
   "source": [
    "sns.boxplot(x=\"dose_bool\", y=\"k- after ambi-Numeric Result\",\n",
    "           \n",
    "            data=ambi)\n",
    "sns.despine(offset=10, trim=True)"
   ]
  },
  {
   "cell_type": "code",
   "execution_count": 27,
   "metadata": {
    "scrolled": true
   },
   "outputs": [
    {
     "data": {
      "image/png": "[encoded data removed]",
      "text/plain": [
       "<Figure size 432x288 with 1 Axes>"
      ]
     },
     "metadata": {
      "needs_background": "light"
     },
     "output_type": "display_data"
    }
   ],
   "source": [
    "sns.boxplot(x=\"dose_bool\", y=\"creatinie- after ambisome-Numeric Result\",\n",
    "           \n",
    "            data=ambi)\n",
    "sns.despine(offset=10, trim=True)"
   ]
  },
  {
   "cell_type": "code",
   "execution_count": 44,
   "metadata": {},
   "outputs": [
    {
     "data": {
      "text/plain": [
       "<matplotlib.axes._subplots.AxesSubplot at 0x7f349c081760>"
      ]
     },
     "execution_count": 44,
     "metadata": {},
     "output_type": "execute_result"
    },
    {
     "data": {
      "image/png": "[encoded data removed]",
      "text/plain": [
       "<Figure size 432x288 with 1 Axes>"
      ]
     },
     "metadata": {
      "needs_background": "light"
     },
     "output_type": "display_data"
    }
   ],
   "source": [
    "sns.scatterplot(data=ambi, x=\"total_dose\", y=\"k- after ambi-Numeric Result\")\n"
   ]
  },
  {
   "cell_type": "code",
   "execution_count": 46,
   "metadata": {},
   "outputs": [
    {
     "data": {
      "text/plain": [
       "<matplotlib.axes._subplots.AxesSubplot at 0x7f349c072e50>"
      ]
     },
     "execution_count": 46,
     "metadata": {},
     "output_type": "execute_result"
    },
    {
     "data": {
      "image/png": "[encoded data removed]",
      "text/plain": [
       "<Figure size 432x288 with 1 Axes>"
      ]
     },
     "metadata": {
      "needs_background": "light"
     },
     "output_type": "display_data"
    }
   ],
   "source": [
    "sns.scatterplot(data=ambi, x=\"total_dose\", y=\"creatinie- after ambisome-Numeric Result\")\n"
   ]
  },
  {
   "cell_type": "markdown",
   "metadata": {},
   "source": [
    "PENTOSTAM"
   ]
  },
  {
   "cell_type": "code",
   "execution_count": 72,
   "metadata": {},
   "outputs": [
    {
     "data": {
      "text/plain": [
       "lab-results-Numeric Result                   0\n",
       "creatinie- after ambisome-Numeric Result     9\n",
       "k- after ambi-Numeric Result                11\n",
       "ast after pento-Numeric Result              36\n",
       "alt after pento-Numeric Result              36\n",
       "alkp after pento-Numeric Result             36\n",
       "ggt after pento-Numeric Result              18\n",
       "amylase after pento-Numeric Result          36\n",
       "lipase after pento-Numeric Result           36\n",
       "dtype: int64"
      ]
     },
     "execution_count": 72,
     "metadata": {},
     "output_type": "execute_result"
    }
   ],
   "source": [
    "pento=rel_merged[rel_merged.treatment==0]\n",
    "pento[lab_result_cols].count()"
   ]
  },
  {
   "cell_type": "code",
   "execution_count": 79,
   "metadata": {},
   "outputs": [
    {
     "data": {
      "text/plain": [
       "37"
      ]
     },
     "execution_count": 79,
     "metadata": {},
     "output_type": "execute_result"
    }
   ],
   "source": [
    "pento[pento_define].count()"
   ]
  },
  {
   "cell_type": "code",
   "execution_count": 29,
   "metadata": {},
   "outputs": [
    {
     "data": {
      "text/plain": [
       "(42, 112)"
      ]
     },
     "execution_count": 29,
     "metadata": {},
     "output_type": "execute_result"
    }
   ],
   "source": [
    "pento=rel_merged[rel_merged.treatment==0]\n",
    "pento.total_dose=[dose.replace(\"mg/kg\",\"\") for dose in pento.total_dose]\n",
    "pento.total_dose=[dose.replace(\" \",\"\") for dose in pento.total_dose]\n",
    "pento.total_dose=[dose.replace(\"אין\",\"\") for dose in pento.total_dose]\n",
    "\n",
    "pento.total_dose=[float(dose) if dose!= \"\" else np.nan for dose in pento.total_dose ]\n",
    "pento=pento.dropna(subset=['total_dose'])\n",
    "pento.shape"
   ]
  },
  {
   "cell_type": "code",
   "execution_count": 75,
   "metadata": {},
   "outputs": [
    {
     "data": {
      "text/plain": [
       "47"
      ]
     },
     "execution_count": 75,
     "metadata": {},
     "output_type": "execute_result"
    }
   ],
   "source": [
    "pento.total_dose.count()"
   ]
  },
  {
   "cell_type": "code",
   "execution_count": 34,
   "metadata": {},
   "outputs": [
    {
     "data": {
      "text/plain": [
       "0    35\n",
       "1     7\n",
       "Name: dose_bool, dtype: int64"
      ]
     },
     "execution_count": 34,
     "metadata": {},
     "output_type": "execute_result"
    }
   ],
   "source": [
    "cut_off_dose=400\n",
    "\n",
    "pento['dose_bool']=[1 if dose>cut_off_dose else 0 for dose in pento.total_dose]\n",
    "pento['dose_bool'].value_counts()"
   ]
  },
  {
   "cell_type": "code",
   "execution_count": 36,
   "metadata": {},
   "outputs": [
    {
     "data": {
      "image/png": "[encoded data removed]",
      "text/plain": [
       "<Figure size 432x288 with 1 Axes>"
      ]
     },
     "metadata": {
      "needs_background": "light"
     },
     "output_type": "display_data"
    }
   ],
   "source": [
    "sns.boxplot(x=\"dose_bool\", y=\"alt after pento-Numeric Result\",\n",
    "           \n",
    "            data=pento)\n",
    "sns.despine(offset=10, trim=True)"
   ]
  },
  {
   "cell_type": "code",
   "execution_count": 37,
   "metadata": {},
   "outputs": [
    {
     "data": {
      "image/png": "[encoded data removed]",
      "text/plain": [
       "<Figure size 432x288 with 1 Axes>"
      ]
     },
     "metadata": {
      "needs_background": "light"
     },
     "output_type": "display_data"
    }
   ],
   "source": [
    "sns.boxplot(x=\"dose_bool\", y=\"ast after pento-Numeric Result\",\n",
    "           \n",
    "            data=pento)\n",
    "sns.despine(offset=10, trim=True)"
   ]
  },
  {
   "cell_type": "code",
   "execution_count": 38,
   "metadata": {},
   "outputs": [
    {
     "data": {
      "image/png": "[encoded data removed]",
      "text/plain": [
       "<Figure size 432x288 with 1 Axes>"
      ]
     },
     "metadata": {
      "needs_background": "light"
     },
     "output_type": "display_data"
    }
   ],
   "source": [
    "sns.boxplot(x=\"dose_bool\", y=\"alkp after pento-Numeric Result\",\n",
    "           \n",
    "            data=pento)\n",
    "sns.despine(offset=10, trim=True)"
   ]
  },
  {
   "cell_type": "code",
   "execution_count": 39,
   "metadata": {},
   "outputs": [
    {
     "data": {
      "image/png": "[encoded data removed]",
      "text/plain": [
       "<Figure size 432x288 with 1 Axes>"
      ]
     },
     "metadata": {
      "needs_background": "light"
     },
     "output_type": "display_data"
    }
   ],
   "source": [
    "sns.boxplot(x=\"dose_bool\", y=\"ggt after pento-Numeric Result\",\n",
    "           \n",
    "            data=pento)\n",
    "sns.despine(offset=10, trim=True)"
   ]
  },
  {
   "cell_type": "code",
   "execution_count": 40,
   "metadata": {},
   "outputs": [
    {
     "data": {
      "image/png": "[encoded data removed]",
      "text/plain": [
       "<Figure size 432x288 with 1 Axes>"
      ]
     },
     "metadata": {
      "needs_background": "light"
     },
     "output_type": "display_data"
    }
   ],
   "source": [
    "sns.boxplot(x=\"dose_bool\", y=\"lipase after pento-Numeric Result\",\n",
    "           \n",
    "            data=pento)\n",
    "sns.despine(offset=10, trim=True)"
   ]
  },
  {
   "cell_type": "code",
   "execution_count": 41,
   "metadata": {},
   "outputs": [
    {
     "data": {
      "image/png": "[encoded data removed]",
      "text/plain": [
       "<Figure size 432x288 with 1 Axes>"
      ]
     },
     "metadata": {
      "needs_background": "light"
     },
     "output_type": "display_data"
    }
   ],
   "source": [
    "sns.boxplot(x=\"dose_bool\", y=\"amylase after pento-Numeric Result\",\n",
    "           \n",
    "            data=pento)\n",
    "sns.despine(offset=10, trim=True)"
   ]
  },
  {
   "cell_type": "code",
   "execution_count": 42,
   "metadata": {},
   "outputs": [
    {
     "data": {
      "text/plain": [
       "<matplotlib.axes._subplots.AxesSubplot at 0x7f349c0cfc10>"
      ]
     },
     "execution_count": 42,
     "metadata": {},
     "output_type": "execute_result"
    },
    {
     "data": {
      "image/png": "[encoded data removed]",
      "text/plain": [
       "<Figure size 432x288 with 1 Axes>"
      ]
     },
     "metadata": {
      "needs_background": "light"
     },
     "output_type": "display_data"
    }
   ],
   "source": [
    "sns.scatterplot(data=pento, x=\"total_dose\", y=\"amylase after pento-Numeric Result\")\n"
   ]
  },
  {
   "cell_type": "code",
   "execution_count": 43,
   "metadata": {},
   "outputs": [
    {
     "data": {
      "text/plain": [
       "<matplotlib.axes._subplots.AxesSubplot at 0x7f349c111550>"
      ]
     },
     "execution_count": 43,
     "metadata": {},
     "output_type": "execute_result"
    },
    {
     "data": {
      "image/png": "[encoded data removed]",
      "text/plain": [
       "<Figure size 432x288 with 1 Axes>"
      ]
     },
     "metadata": {
      "needs_background": "light"
     },
     "output_type": "display_data"
    }
   ],
   "source": [
    "sns.scatterplot(data=pento, x=\"total_dose\", y=\"lipase after pento-Numeric Result\")\n"
   ]
  },
  {
   "cell_type": "markdown",
   "metadata": {},
   "source": [
    "## TRAVELER"
   ]
  },
  {
   "cell_type": "code",
   "execution_count": 43,
   "metadata": {},
   "outputs": [
    {
     "data": {
      "text/plain": [
       "(1, 83)"
      ]
     },
     "execution_count": 43,
     "metadata": {},
     "output_type": "execute_result"
    }
   ],
   "source": [
    "trav_pento=pd.read_csv('leish_data/trav_pento.csv')\n",
    "\n",
    "trav_pento['ת.ז']=[str(ids).replace(\"nan\",\"0\") for ids in trav_pento['ת.ז']]\n",
    "\n",
    "trav_pento['ת.ז']=[int(str(ids).replace(\"-\",\"\")) for ids in trav_pento['ת.ז']]\n",
    "\n",
    "trav_cols=[demog_cols,lab_inter_cols,lab_result_cols,ambisome_admin_cols,pentostam_admin,trav_pento.columns ]\n",
    "merged=data.merge(trav_pento, left_on='Patient ID',right_on='ת.ז', how='inner')\n",
    "trav_merged=df_from_cols(merged, trav_cols)\n",
    "trav_merged.shape"
   ]
  },
  {
   "cell_type": "code",
   "execution_count": 39,
   "metadata": {},
   "outputs": [
    {
     "data": {
      "text/plain": [
       "0      66079856\n",
       "1      40354656\n",
       "2      42827576\n",
       "3      17882481\n",
       "4             0\n",
       "5      25346560\n",
       "6      38596946\n",
       "7      32206138\n",
       "8      43393529\n",
       "9     111877986\n",
       "10     28139228\n",
       "11     40335267\n",
       "12     31199300\n",
       "13     40183923\n",
       "14     32879421\n",
       "15     40649048\n",
       "16     27950492\n",
       "17     33481888\n",
       "18     32907180\n",
       "19     11028578\n",
       "20     40309833\n",
       "21     17903907\n",
       "22     52705761\n",
       "23     33854845\n",
       "24     40686081\n",
       "25     31775989\n",
       "26       339148\n",
       "27     35815745\n",
       "28     32865552\n",
       "29     33985003\n",
       "30     33269358\n",
       "31     34143214\n",
       "32            0\n",
       "33            0\n",
       "34            0\n",
       "35            0\n",
       "36            0\n",
       "37            0\n",
       "38            0\n",
       "39            0\n",
       "40            0\n",
       "41            0\n",
       "42            0\n",
       "43     25063082\n",
       "44     36066397\n",
       "Name: ת.ז, dtype: int64"
      ]
     },
     "execution_count": 39,
     "metadata": {},
     "output_type": "execute_result"
    }
   ],
   "source": [
    "trav_pento['ת.ז']"
   ]
  },
  {
   "cell_type": "code",
   "execution_count": null,
   "metadata": {},
   "outputs": [],
   "source": []
  },
  {
   "cell_type": "code",
   "execution_count": null,
   "metadata": {},
   "outputs": [],
   "source": []
  }
 ],
 "metadata": {
  "kernelspec": {
   "display_name": "Python 3",
   "language": "python",
   "name": "python3"
  },
  "language_info": {
   "codemirror_mode": {
    "name": "ipython",
    "version": 3
   },
   "file_extension": ".py",
   "mimetype": "text/x-python",
   "name": "python",
   "nbconvert_exporter": "python",
   "pygments_lexer": "ipython3",
   "version": "3.8.5"
  }
 },
 "nbformat": 4,
 "nbformat_minor": 4
}
